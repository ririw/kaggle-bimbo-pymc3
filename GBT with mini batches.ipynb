{
 "cells": [
  {
   "cell_type": "code",
   "execution_count": 1,
   "metadata": {
    "collapsed": false
   },
   "outputs": [
    {
     "name": "stdout",
     "output_type": "stream",
     "text": [
      "Populating the interactive namespace from numpy and matplotlib\n"
     ]
    },
    {
     "name": "stderr",
     "output_type": "stream",
     "text": [
      "/Users/riri/.virtualenvs/analysis3/lib/python3.4/site-packages/sklearn/lda.py:4: DeprecationWarning: lda.LDA has been moved to discriminant_analysis.LinearDiscriminantAnalysis in 0.17 and will be removed in 0.19\n",
      "  \"in 0.17 and will be removed in 0.19\", DeprecationWarning)\n",
      "/Users/riri/.virtualenvs/analysis3/lib/python3.4/site-packages/sklearn/qda.py:4: DeprecationWarning: qda.QDA has been moved to discriminant_analysis.QuadraticDiscriminantAnalysis in 0.17 and will be removed in 0.19.\n",
      "  \"in 0.17 and will be removed in 0.19.\", DeprecationWarning)\n"
     ]
    }
   ],
   "source": [
    "%pylab inline\n",
    "import sqlite3\n",
    "import pandas\n",
    "import tqdm\n",
    "from sklearn import *\n",
    "import ml_metrics\n",
    "from xgboost import sklearn as xgblearn"
   ]
  },
  {
   "cell_type": "code",
   "execution_count": 2,
   "metadata": {
    "collapsed": true
   },
   "outputs": [],
   "source": [
    "def fit_mini_batch(reg, test=False, train_batch=None):\n",
    "    # Fit three little estimators in each\n",
    "    # round of boosting, all from the same\n",
    "    # sample.\n",
    "    reg.n_estimators += 4\n",
    "    if train_batch is None:\n",
    "        train_batch = np.random.randint(100)\n",
    "    con = sqlite3.connect('/tmp/train_test_data.sqlite3')\n",
    "    try:\n",
    "        print('Fetching data: %d' % train_batch)\n",
    "        data = pandas.read_sql('''\n",
    "            SELECT * \n",
    "              FROM train_data \n",
    "             WHERE adjusted_demand is not null \n",
    "                   AND rand = ? AND week_num < 8''', con=con, params=[train_batch])\n",
    "    finally:\n",
    "        con.close()\n",
    "    data = data.drop(['week_num', 'rand'], axis=1)\n",
    "    X = data.drop('adjusted_demand', axis=1).as_matrix().copy(order='C')\n",
    "    # See https://github.com/dmlc/xgboost/issues/446#issuecomment-135555130\n",
    "    y = np.log(1+data.adjusted_demand.as_matrix().copy(order='C'))\n",
    "    reg.fit(X, y)\n",
    "\n",
    "    if test:\n",
    "        test_batch = np.random.randint(100)\n",
    "        con = sqlite3.connect('/tmp/train_test_data.sqlite3')\n",
    "        try:\n",
    "            data = pandas.read_sql('''\n",
    "                SELECT * \n",
    "                  FROM test_data \n",
    "                 WHERE adjusted_demand is not null \n",
    "                       AND rand = ? AND week_num >= 8''', con=con, params=[test_batch])\n",
    "        finally:\n",
    "            con.close()\n",
    "\n",
    "        data = data.drop(['week_num', 'rand'], axis=1)\n",
    "        X = data.drop('adjusted_demand', axis=1).as_matrix().copy(order='C')\n",
    "        pred = exp(reg.predict(X)) - 1\n",
    "        print(ml_metrics.rmsle(data.adjusted_demand, pred))"
   ]
  },
  {
   "cell_type": "code",
   "execution_count": 3,
   "metadata": {
    "collapsed": false
   },
   "outputs": [],
   "source": [
    "reg = ensemble.GradientBoostingRegressor(\n",
    "    warm_start=True,\n",
    "    max_depth=11,\n",
    "    verbose=0, \n",
    "    n_estimators=0)\n",
    "\n",
    "reg = ensemble.ExtraTreesRegressor(\n",
    "    warm_start=True,\n",
    "    verbose=0, \n",
    "    n_jobs=-1,\n",
    "    n_estimators=0)"
   ]
  },
  {
   "cell_type": "code",
   "execution_count": null,
   "metadata": {
    "collapsed": false,
    "scrolled": false
   },
   "outputs": [
    {
     "name": "stdout",
     "output_type": "stream",
     "text": [
      "Fetching data: 0\n",
      "0.622702913953\n",
      "Fetching data: 1\n",
      "Fetching data: 2\n",
      "Fetching data: 3\n",
      "0.55303572727\n",
      "Fetching data: 4\n",
      "Fetching data: 5\n",
      "Fetching data: 6\n",
      "0.544279092619\n",
      "Fetching data: 7\n",
      "Fetching data: 8\n",
      "Fetching data: 9\n",
      "0.542323045181\n",
      "Fetching data: 10\n",
      "Fetching data: 11\n",
      "Fetching data: 12\n",
      "0.539148382405\n",
      "Fetching data: 13\n",
      "Fetching data: 14\n",
      "Fetching data: 15\n",
      "0.537835313243\n",
      "Fetching data: 16\n",
      "Fetching data: 17\n",
      "Fetching data: 18\n",
      "0.536780169741\n",
      "Fetching data: 19\n",
      "Fetching data: 20\n",
      "Fetching data: 21\n",
      "0.534108935727\n",
      "Fetching data: 22\n",
      "Fetching data: 23\n",
      "Fetching data: 24\n",
      "0.534377574525\n",
      "Fetching data: 25\n",
      "Fetching data: 26\n",
      "Fetching data: 27\n",
      "0.534578613834\n",
      "Fetching data: 28\n",
      "Fetching data: 29\n",
      "Fetching data: 30\n",
      "0.533864573578\n",
      "Fetching data: 31\n",
      "Fetching data: 32\n",
      "Fetching data: 33\n",
      "0.533348243399\n",
      "Fetching data: 34\n",
      "Fetching data: 35\n",
      "Fetching data: 36\n",
      "0.532102327581\n",
      "Fetching data: 37\n",
      "Fetching data: 38\n",
      "Fetching data: 39\n",
      "0.535613510905\n",
      "Fetching data: 40\n",
      "Fetching data: 41\n",
      "Fetching data: 42\n",
      "0.533281960298\n",
      "Fetching data: 43\n",
      "Fetching data: 44\n",
      "Fetching data: 45\n",
      "0.533720775199\n",
      "Fetching data: 46\n",
      "Fetching data: 47\n",
      "Fetching data: 48\n",
      "0.532263066853\n",
      "Fetching data: 49\n",
      "Fetching data: 50\n",
      "Fetching data: 51\n",
      "0.531868917002\n",
      "Fetching data: 52\n",
      "Fetching data: 53\n",
      "Fetching data: 54\n",
      "0.532938846093\n",
      "Fetching data: 55\n",
      "Fetching data: 56\n",
      "Fetching data: 57\n",
      "0.534775872501\n",
      "Fetching data: 58\n",
      "Fetching data: 59\n",
      "Fetching data: 60\n",
      "0.5343941706\n",
      "Fetching data: 61\n",
      "Fetching data: 62\n",
      "Fetching data: 63\n",
      "0.531421956165\n",
      "Fetching data: 64\n",
      "Fetching data: 65\n",
      "Fetching data: 66\n",
      "0.533215492708"
     ]
    }
   ],
   "source": [
    "for i in range(200):\n",
    "    fit_mini_batch(reg, i % 3 == 0, i % 100)"
   ]
  },
  {
   "cell_type": "code",
   "execution_count": null,
   "metadata": {
    "collapsed": true
   },
   "outputs": [],
   "source": []
  }
 ],
 "metadata": {
  "kernelspec": {
   "display_name": "Python 3",
   "language": "python",
   "name": "python3"
  },
  "language_info": {
   "codemirror_mode": {
    "name": "ipython",
    "version": 3
   },
   "file_extension": ".py",
   "mimetype": "text/x-python",
   "name": "python",
   "nbconvert_exporter": "python",
   "pygments_lexer": "ipython3",
   "version": "3.4.3"
  }
 },
 "nbformat": 4,
 "nbformat_minor": 0
}
