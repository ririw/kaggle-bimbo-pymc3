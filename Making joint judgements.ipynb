{
 "cells": [
  {
   "cell_type": "code",
   "execution_count": 2,
   "metadata": {
    "collapsed": false
   },
   "outputs": [
    {
     "name": "stdout",
     "output_type": "stream",
     "text": [
      "Populating the interactive namespace from numpy and matplotlib\n"
     ]
    }
   ],
   "source": [
    "%pylab inline"
   ]
  },
  {
   "cell_type": "code",
   "execution_count": 3,
   "metadata": {
    "collapsed": false
   },
   "outputs": [
    {
     "name": "stderr",
     "output_type": "stream",
     "text": [
      "/home/riri/.virtualenvs/mxnet-3/lib/python3.4/site-packages/sklearn/lda.py:4: DeprecationWarning: lda.LDA has been moved to discriminant_analysis.LinearDiscriminantAnalysis in 0.17 and will be removed in 0.19\n",
      "  \"in 0.17 and will be removed in 0.19\", DeprecationWarning)\n",
      "/home/riri/.virtualenvs/mxnet-3/lib/python3.4/site-packages/sklearn/qda.py:4: DeprecationWarning: qda.QDA has been moved to discriminant_analysis.QuadraticDiscriminantAnalysis in 0.17 and will be removed in 0.19.\n",
      "  \"in 0.17 and will be removed in 0.19.\", DeprecationWarning)\n"
     ]
    }
   ],
   "source": [
    "import sqlite3\n",
    "import pandas\n",
    "import pandas.io.sql\n",
    "import tqdm\n",
    "from sklearn import *\n",
    "import ml_metrics"
   ]
  },
  {
   "cell_type": "code",
   "execution_count": 4,
   "metadata": {
    "collapsed": false
   },
   "outputs": [],
   "source": [
    "class CategoricalMeanEstimator:\n",
    "    def __init__(self, col):\n",
    "        self.col = col\n",
    "        self.cls = None\n",
    "        self.global_mean = None\n",
    "    def fit(self, X, y):\n",
    "        self.cls = y.groupby(X[self.col]).median().to_frame('estimate')\n",
    "        self.global_mean = y.median()\n",
    "        return self\n",
    "    \n",
    "    def predict(self, X):\n",
    "        x = X[self.col].to_frame('col')\n",
    "        res = pandas.merge(x, self.cls, left_on='col', right_index=True, how='left')\n",
    "        return res.estimate.fillna(self.global_mean)"
   ]
  },
  {
   "cell_type": "code",
   "execution_count": 5,
   "metadata": {
    "collapsed": true
   },
   "outputs": [],
   "source": [
    "class MultiCategoricalMeanEstimator:\n",
    "    def __init__(self, cols):\n",
    "        self.cols = cols\n",
    "        self.cls = None\n",
    "        self.global_mean = None\n",
    "    def fit(self, X, y):\n",
    "        groups = [X[col] for col in self.cols]\n",
    "        self.cls = y.groupby(groups).median().to_frame('estimate').reset_index()\n",
    "        self.global_mean = y.median()\n",
    "        return self\n",
    "    \n",
    "    def predict(self, X):\n",
    "        x = X[self.cols]\n",
    "        res = pandas.merge(\n",
    "            x, self.cls, \n",
    "            left_on=self.cols, right_on=self.cols, \n",
    "            how='left')\n",
    "        return res.fillna(self.global_mean).estimate"
   ]
  },
  {
   "cell_type": "code",
   "execution_count": 6,
   "metadata": {
    "collapsed": false
   },
   "outputs": [
    {
     "name": "stderr",
     "output_type": "stream",
     "text": []
    }
   ],
   "source": [
    "con = sqlite3.connect('/tmp/data.sqlite3')\n",
    "total = 53364883\n",
    "data = None\n",
    "chunksize = int(5e6)\n",
    "try:\n",
    "    data_iter = pandas.read_sql('''\n",
    "        SELECT week_num,\n",
    "               sales_depo,\n",
    "               sales_channel,\n",
    "               route_id,\n",
    "               client_id,\n",
    "               product_id,\n",
    "               adjusted_demand,\n",
    "               rand\n",
    "          FROM data \n",
    "         WHERE adjusted_demand is not null \n",
    "               AND week_num < 8''', con=con, chunksize=chunksize)\n",
    "    for f in tqdm.tqdm(data_iter, total=1+total//chunksize):\n",
    "        # This halves the memory use :(\n",
    "        for col in f:\n",
    "            if f[col].dtype == np.int64:\n",
    "                f[col] = f[col].astype(np.int32)\n",
    "        if data is None:\n",
    "            data = f\n",
    "        else:\n",
    "            data = pandas.concat([data, f])\n",
    "finally:\n",
    "    con.close()"
   ]
  },
  {
   "cell_type": "code",
   "execution_count": 7,
   "metadata": {
    "collapsed": false
   },
   "outputs": [
    {
     "name": "stderr",
     "output_type": "stream",
     "text": []
    }
   ],
   "source": [
    "series = {'adjusted_demand': data.adjusted_demand}\n",
    "admissible_cols = ['week_num', 'sales_depo', 'sales_channel', 'route_id', 'client_id', 'product_id']\n",
    "\n",
    "estimators = {}\n",
    "for col in tqdm.tqdm(admissible_cols):\n",
    "    est = CategoricalMeanEstimator(col)\n",
    "    est.fit(data, data.adjusted_demand)\n",
    "    estimators[col] = est\n",
    "    series[col] = est.predict(data)\n",
    "\n",
    "'''\n",
    "if False:\n",
    "    for c1, c2 in tqdm.tqdm([(c1, c2) for c1 in admissible_cols for c2 in admissible_cols if c1 != c2]):\n",
    "        est = MultiCategoricalMeanEstimator([c1, c2])\n",
    "        est.fit(data, data.adjusted_demand)\n",
    "        series_name = c1 + '_' + c2\n",
    "        series[series_name] = est.predict(data)\n",
    "        test_series[series_name] = est.predict(test_data)\n",
    "        del est\n",
    "'''\n",
    "    \n",
    "train_X = pandas.DataFrame(series)\n",
    "train_X['rand'] = data.rand\n",
    "train_X['adjusted_demand'] = data.adjusted_demand\n",
    "del series, data"
   ]
  },
  {
   "cell_type": "code",
   "execution_count": 8,
   "metadata": {
    "collapsed": false
   },
   "outputs": [],
   "source": [
    "con = sqlite3.connect('/tmp/train_test_data.sqlite3')\n",
    "try:\n",
    "    # Set up the table\n",
    "    pandas.io.sql.to_sql(train_X.head(), 'train_data', con=con, if_exists='replace')\n",
    "finally:\n",
    "    con.close()"
   ]
  },
  {
   "cell_type": "code",
   "execution_count": null,
   "metadata": {
    "collapsed": true
   },
   "outputs": [],
   "source": [
    "## test_series = {'adjusted_demand': test_data.adjusted_demand}\n",
    "for col in tqdm.tqdm(admissible_cols):\n",
    "    test_series[col] = estimators[col].predict(test_data)\n",
    "    \n",
    "test_X = pandas.DataFrame(test_series)\n",
    "test_X['rand'] = test_data.rand\n",
    "test_X['adjusted_demand'] = test_data.adjusted_demand\n",
    "\n",
    "del test_series"
   ]
  },
  {
   "cell_type": "code",
   "execution_count": null,
   "metadata": {
    "collapsed": true
   },
   "outputs": [],
   "source": [
    "con = sqlite3.connect('/tmp/data.sqlite3')\n",
    "test_data = None\n",
    "total = 20815581\n",
    "try:\n",
    "    data_iter = pandas.read_sql('''\n",
    "        SELECT * \n",
    "          FROM data \n",
    "         WHERE adjusted_demand is not null \n",
    "               AND week_num >= 8''', con=con, chunksize=chunksize)\n",
    "    for f in tqdm.tqdm(data_iter, total=1+total//chunksize):\n",
    "        for col in f:\n",
    "            if f[col].dtype == np.int64:\n",
    "                f[col] = f[col].astype(np.int32)\n",
    "        if test_data is None:\n",
    "            test_data = f\n",
    "        else:\n",
    "            test_data = pandas.concat([test_data, f])\n",
    "finally:\n",
    "    con.close()\n",
    "\n",
    "test_X['rand'] = test_data.rand\n",
    "test_X['adjusted_demand'] = test_data.adjusted_demand"
   ]
  },
  {
   "cell_type": "code",
   "execution_count": null,
   "metadata": {
    "collapsed": false
   },
   "outputs": [],
   "source": []
  },
  {
   "cell_type": "code",
   "execution_count": null,
   "metadata": {
    "collapsed": false
   },
   "outputs": [],
   "source": [
    "con = sqlite3.connect('/tmp/train_test_data.sqlite3')\n",
    "try:\n",
    "    pandas.io.sql.to_sql(test_X, 'test_data', con=con, if_exists='replace')\n",
    "finally:\n",
    "    con.close()"
   ]
  },
  {
   "cell_type": "code",
   "execution_count": null,
   "metadata": {
    "collapsed": false
   },
   "outputs": [],
   "source": [
    "reg = ensemble.GradientBoostingRegressor(\n",
    "    subsample=0.1, \n",
    "    max_depth=8,\n",
    "    warm_start=True,\n",
    "    max_features='log2',\n",
    "    verbose=2,\n",
    "    n_estimators=20)\n",
    "reg.fit(train_X.drop('adjusted_demand', axis=1), train_X.adjusted_demand)"
   ]
  },
  {
   "cell_type": "code",
   "execution_count": null,
   "metadata": {
    "collapsed": false
   },
   "outputs": [],
   "source": [
    "y_pred = max(reg.predict(test_X.drop('adjusted_demand', axis=1)), 0)"
   ]
  },
  {
   "cell_type": "code",
   "execution_count": null,
   "metadata": {
    "collapsed": false
   },
   "outputs": [],
   "source": [
    "ml_metrics.rmsle(test_X.adjusted_demand, y_pred)"
   ]
  },
  {
   "cell_type": "code",
   "execution_count": null,
   "metadata": {
    "collapsed": true
   },
   "outputs": [],
   "source": []
  }
 ],
 "metadata": {
  "kernelspec": {
   "display_name": "Python 3",
   "language": "python",
   "name": "python3"
  },
  "language_info": {
   "codemirror_mode": {
    "name": "ipython",
    "version": 3
   },
   "file_extension": ".py",
   "mimetype": "text/x-python",
   "name": "python",
   "nbconvert_exporter": "python",
   "pygments_lexer": "ipython3",
   "version": "3.4.3"
  }
 },
 "nbformat": 4,
 "nbformat_minor": 0
}
