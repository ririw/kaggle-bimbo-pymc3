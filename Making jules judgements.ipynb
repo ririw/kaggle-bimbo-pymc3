{
 "cells": [
  {
   "cell_type": "markdown",
   "metadata": {},
   "source": [
    "# Readme\n",
    "\n",
    "This is a faster verison of the python script that generates the mean/median\n",
    "datasets. I think it's the same, although it outputs to a CSV file, rather \n",
    "than a database. And it's much faster!"
   ]
  },
  {
   "cell_type": "code",
   "execution_count": 1,
   "metadata": {
    "collapsed": false
   },
   "outputs": [
    {
     "name": "stderr",
     "output_type": "stream",
     "text": [
      "WARNING: New definition \n",
      "    broadcast(Function, DataArrays.PooledDataArray...) at /Users/riri/.julia/v0.4/DataArrays/src/broadcast.jl:312\n",
      "is ambiguous with: \n",
      "    broadcast(Any, NullableArrays.NullableArray...) at /Users/riri/.julia/v0.4/NullableArrays/src/broadcast.jl:100.\n",
      "To fix, define \n",
      "    broadcast(Function)\n",
      "before the new definition.\n"
     ]
    }
   ],
   "source": [
    "using SQLite\n",
    "using DataArrays, DataFrames \n",
    "using DataStreams"
   ]
  },
  {
   "cell_type": "code",
   "execution_count": 2,
   "metadata": {
    "collapsed": false
   },
   "outputs": [],
   "source": [
    "type CategoricalMeanEstimator\n",
    "    col::Symbol\n",
    "    cls_mean::DataFrames.DataFrame\n",
    "    cls_med::DataFrames.DataFrame\n",
    "    global_mean::Float32\n",
    "    global_med::Float32\n",
    "end"
   ]
  },
  {
   "cell_type": "code",
   "execution_count": 3,
   "metadata": {
    "collapsed": false
   },
   "outputs": [
    {
     "data": {
      "text/plain": [
       "CategoricalMeanEstimator"
      ]
     },
     "execution_count": 3,
     "metadata": {},
     "output_type": "execute_result"
    }
   ],
   "source": [
    "function CategoricalMeanEstimator(frame, name)\n",
    "    return CategoricalMeanEstimator(\n",
    "        name,\n",
    "        aggregate(data, name, mean)[[name, :adjusted_demand_mean]],\n",
    "        aggregate(data, name, median)[[name, :adjusted_demand_median]],\n",
    "        mean(frame[name]),\n",
    "        median(frame[name])\n",
    "    )\n",
    "end"
   ]
  },
  {
   "cell_type": "code",
   "execution_count": 4,
   "metadata": {
    "collapsed": false
   },
   "outputs": [
    {
     "data": {
      "text/plain": [
       "classify_with_estimator (generic function with 1 method)"
      ]
     },
     "execution_count": 4,
     "metadata": {},
     "output_type": "execute_result"
    }
   ],
   "source": [
    "function classify_with_estimator(frame, estimator)\n",
    "    res_mean = join(frame, estimator.cls_mean, on=estimator.col, kind=:left)[:adjusted_demand_mean]\n",
    "    res_mean[isna(res_mean)] = estimator.global_mean\n",
    "    res_med = join(frame, estimator.cls_med, on=estimator.col, kind=:left)[:adjusted_demand_median]\n",
    "    res_med[isna(res_med)] = estimator.global_med\n",
    "    res = DataFrame()\n",
    "    res[symbol(string(estimator.col, :_mean))] = res_mean\n",
    "    res[symbol(string(estimator.col, :_med))] = res_med\n",
    "    return res\n",
    "end"
   ]
  },
  {
   "cell_type": "code",
   "execution_count": 5,
   "metadata": {
    "collapsed": false
   },
   "outputs": [
    {
     "data": {
      "text/plain": [
       "SQLite.DB(\"/tmp/data.sqlite3\")"
      ]
     },
     "execution_count": 5,
     "metadata": {},
     "output_type": "execute_result"
    }
   ],
   "source": [
    "db = SQLite.DB(\"/tmp/data.sqlite3\")"
   ]
  },
  {
   "cell_type": "code",
   "execution_count": 6,
   "metadata": {
    "collapsed": false
   },
   "outputs": [
    {
     "data": {
      "text/html": [
       "<table class=\"data-frame\"><tr><th></th><th>week_num</th><th>sales_depo</th><th>sales_channel</th><th>route_id</th><th>client_id</th><th>product_id</th><th>adjusted_demand</th><th>rand</th></tr><tr><th>1</th><td>3</td><td>1110</td><td>7</td><td>3301</td><td>198780</td><td>35651</td><td>23</td><td>0</td></tr><tr><th>2</th><td>3</td><td>1110</td><td>7</td><td>3301</td><td>886295</td><td>47336</td><td>3</td><td>0</td></tr><tr><th>3</th><td>3</td><td>1110</td><td>7</td><td>3301</td><td>1603500</td><td>1240</td><td>5</td><td>0</td></tr><tr><th>4</th><td>3</td><td>1110</td><td>7</td><td>3301</td><td>1914789</td><td>1240</td><td>5</td><td>0</td></tr><tr><th>5</th><td>3</td><td>1110</td><td>7</td><td>3302</td><td>50720</td><td>48077</td><td>10</td><td>0</td></tr><tr><th>6</th><td>3</td><td>1110</td><td>7</td><td>3302</td><td>664651</td><td>1216</td><td>6</td><td>0</td></tr></table>"
      ],
      "text/plain": [
       "6×8 DataFrames.DataFrame\n",
       "│ Row │ week_num │ sales_depo │ sales_channel │ route_id │ client_id │\n",
       "├─────┼──────────┼────────────┼───────────────┼──────────┼───────────┤\n",
       "│ 1   │ 3        │ 1110       │ 7             │ 3301     │ 198780    │\n",
       "│ 2   │ 3        │ 1110       │ 7             │ 3301     │ 886295    │\n",
       "│ 3   │ 3        │ 1110       │ 7             │ 3301     │ 1603500   │\n",
       "│ 4   │ 3        │ 1110       │ 7             │ 3301     │ 1914789   │\n",
       "│ 5   │ 3        │ 1110       │ 7             │ 3302     │ 50720     │\n",
       "│ 6   │ 3        │ 1110       │ 7             │ 3302     │ 664651    │\n",
       "\n",
       "│ Row │ product_id │ adjusted_demand │ rand │\n",
       "├─────┼────────────┼─────────────────┼──────┤\n",
       "│ 1   │ 35651      │ 23              │ 0    │\n",
       "│ 2   │ 47336      │ 3               │ 0    │\n",
       "│ 3   │ 1240       │ 5               │ 0    │\n",
       "│ 4   │ 1240       │ 5               │ 0    │\n",
       "│ 5   │ 48077      │ 10              │ 0    │\n",
       "│ 6   │ 1216       │ 6               │ 0    │"
      ]
     },
     "execution_count": 6,
     "metadata": {},
     "output_type": "execute_result"
    }
   ],
   "source": [
    "query = \"\"\"\n",
    "SELECT week_num,\n",
    "               sales_depo,\n",
    "               sales_channel,\n",
    "               route_id,\n",
    "               client_id,\n",
    "               product_id,\n",
    "               adjusted_demand,\n",
    "               rand\n",
    "          FROM data \n",
    "         WHERE adjusted_demand is not null \n",
    "               AND week_num < 8\n",
    "\"\"\"\n",
    "data = SQLite.query(db, query)\n",
    "for name in names(data)\n",
    "    data[name] = data[name].values\n",
    "end\n",
    "head(data)"
   ]
  },
  {
   "cell_type": "code",
   "execution_count": null,
   "metadata": {
    "collapsed": false
   },
   "outputs": [],
   "source": [
    "frs = Array{CategoricalMeanEstimator, 1}()\n",
    "for name in names(data)\n",
    "    if name != :adjusted_demand && name != :rand\n",
    "        fr = CategoricalMeanEstimator(data, name)\n",
    "        frs = push!(frs, fr)\n",
    "    end \n",
    "end "
   ]
  },
  {
   "cell_type": "code",
   "execution_count": null,
   "metadata": {
    "collapsed": false
   },
   "outputs": [],
   "source": [
    "query = \"\"\"\n",
    "        SELECT coalesce(id, -1),\n",
    "               week_num,\n",
    "               sales_depo,\n",
    "               sales_channel,\n",
    "               route_id,\n",
    "               client_id,\n",
    "               product_id,\n",
    "               adjusted_demand,\n",
    "               rand\n",
    "     FROM data limit 100\n",
    "\"\"\"\n",
    "test_data = SQLite.query(db, query)\n",
    "for name in names(test_data)\n",
    "    test_data[name] = test_data[name].values\n",
    "end\n",
    "head(test_data)"
   ]
  },
  {
   "cell_type": "code",
   "execution_count": null,
   "metadata": {
    "collapsed": false
   },
   "outputs": [],
   "source": [
    "for fr in frs\n",
    "    res = classify_with_estimator(test_data, fr)\n",
    "    for name in names(res)\n",
    "        test_data[name] = res[name]\n",
    "    end \n",
    "end "
   ]
  },
  {
   "cell_type": "code",
   "execution_count": null,
   "metadata": {
    "collapsed": false
   },
   "outputs": [],
   "source": [
    "writetable(\"/tmp/all_data.csv\", test_data)"
   ]
  },
  {
   "cell_type": "code",
   "execution_count": null,
   "metadata": {
    "collapsed": true
   },
   "outputs": [],
   "source": []
  }
 ],
 "metadata": {
  "kernelspec": {
   "display_name": "Julia 0.4.6",
   "language": "julia",
   "name": "julia-0.4"
  },
  "language_info": {
   "file_extension": ".jl",
   "mimetype": "application/julia",
   "name": "julia",
   "version": "0.4.6"
  }
 },
 "nbformat": 4,
 "nbformat_minor": 0
}
