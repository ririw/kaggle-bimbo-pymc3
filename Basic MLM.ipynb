{
 "cells": [
  {
   "cell_type": "code",
   "execution_count": 1,
   "metadata": {
    "collapsed": false
   },
   "outputs": [
    {
     "name": "stdout",
     "output_type": "stream",
     "text": [
      "Populating the interactive namespace from numpy and matplotlib\n"
     ]
    },
    {
     "name": "stderr",
     "output_type": "stream",
     "text": [
      "/Users/riri/.virtualenvs/analysis3/lib/python3.4/site-packages/sklearn/lda.py:4: DeprecationWarning: lda.LDA has been moved to discriminant_analysis.LinearDiscriminantAnalysis in 0.17 and will be removed in 0.19\n",
      "  \"in 0.17 and will be removed in 0.19\", DeprecationWarning)\n",
      "/Users/riri/.virtualenvs/analysis3/lib/python3.4/site-packages/sklearn/qda.py:4: DeprecationWarning: qda.QDA has been moved to discriminant_analysis.QuadraticDiscriminantAnalysis in 0.17 and will be removed in 0.19.\n",
      "  \"in 0.17 and will be removed in 0.19.\", DeprecationWarning)\n"
     ]
    }
   ],
   "source": [
    "%pylab inline\n",
    "import pandas\n",
    "import sqlite3\n",
    "import pymc3\n",
    "import seaborn as sns\n",
    "from sklearn import *\n",
    "from tqdm import tqdm\n",
    "import ml_metrics"
   ]
  },
  {
   "cell_type": "code",
   "execution_count": 2,
   "metadata": {
    "collapsed": true
   },
   "outputs": [],
   "source": [
    "con = sqlite3.connect('/tmp/data.sqlite3')"
   ]
  },
  {
   "cell_type": "code",
   "execution_count": 3,
   "metadata": {
    "collapsed": false
   },
   "outputs": [],
   "source": [
    "batch_data = pandas.read_sql('''\n",
    "    SELECT week_num, \n",
    "           sales_depo,\n",
    "           sales_channel,\n",
    "           route_id,\n",
    "           client_id,\n",
    "           product_id,\n",
    "           adjusted_demand\n",
    "      FROM data\n",
    "     WHERE adjusted_demand is not null\n",
    "           AND week_num < 8\n",
    "           AND product_id < 1000\n",
    "    ''', con=con)"
   ]
  },
  {
   "cell_type": "code",
   "execution_count": 4,
   "metadata": {
    "collapsed": false
   },
   "outputs": [
    {
     "data": {
      "text/plain": [
       "(366, 47)"
      ]
     },
     "execution_count": 4,
     "metadata": {},
     "output_type": "execute_result"
    }
   ],
   "source": [
    "n_products = batch_data.product_id.nunique()\n",
    "n_depos = batch_data.sales_depo.nunique()\n",
    "n_depos, n_products"
   ]
  },
  {
   "cell_type": "code",
   "execution_count": null,
   "metadata": {
    "collapsed": true
   },
   "outputs": [],
   "source": []
  },
  {
   "cell_type": "code",
   "execution_count": 5,
   "metadata": {
    "collapsed": false
   },
   "outputs": [],
   "source": [
    "sales_depo_ids = {depo: id for id, depo in enumerate(batch_data.sales_depo.unique())}\n",
    "product_id_ids = {product: id for id, product in enumerate(batch_data.product_id.unique())}\n",
    "\n",
    "task_data = pandas.DataFrame([], index=batch_data.index)\n",
    "task_data['sales_depo_id'] = batch_data.sales_depo.apply(sales_depo_ids.get)\n",
    "task_data['product_id'] = batch_data.product_id.apply(product_id_ids.get)\n",
    "task_data['adjusted_demand'] = batch_data.adjusted_demand"
   ]
  },
  {
   "cell_type": "code",
   "execution_count": 6,
   "metadata": {
    "collapsed": false
   },
   "outputs": [],
   "source": [
    "samps = task_data"
   ]
  },
  {
   "cell_type": "code",
   "execution_count": 63,
   "metadata": {
    "collapsed": false
   },
   "outputs": [],
   "source": [
    "simple_mlm = pymc3.Model()\n",
    "with simple_mlm:\n",
    "    product_id_rate = pymc3.Normal('product_id_rate', 100, shape=n_products)\n",
    "    sales_depo_rate = pymc3.Normal('sales_depo_rate', 100, shape=n_depos)\n",
    "    intercept = pymc3.Normal('intercept', 0, 100)\n",
    "    #demand_variance = pymc3.HalfNormal('demand_variance', 10)\n",
    "    \n",
    "    sales_rate = pymc3.Deterministic(\n",
    "        'sales_rate', \n",
    "        abs(product_id_rate[samps.product_id] + sales_depo_rate[samps.sales_depo_id] + intercept))\n",
    "    \n",
    "    adjusted_demand_est = pymc3.Poisson(\n",
    "        'adjusted_demand', \n",
    "        sales_rate, #demand_variance,\n",
    "        observed=samps.adjusted_demand)"
   ]
  },
  {
   "cell_type": "code",
   "execution_count": 64,
   "metadata": {
    "collapsed": false,
    "scrolled": false
   },
   "outputs": [
    {
     "name": "stdout",
     "output_type": "stream",
     "text": [
      " [-----------------100%-----------------] 501 of 500 complete in 58692.8 sec"
     ]
    }
   ],
   "source": [
    "with simple_mlm:\n",
    "    trace = pymc3.sample(500, step=pymc3.NUTS())\n",
    "    samples = pymc3.sample_ppc(trace[-100:])"
   ]
  },
  {
   "cell_type": "code",
   "execution_count": 65,
   "metadata": {
    "collapsed": false
   },
   "outputs": [
    {
     "data": {
      "text/plain": [
       "0.66688735758168283"
      ]
     },
     "execution_count": 65,
     "metadata": {},
     "output_type": "execute_result"
    }
   ],
   "source": [
    "ml_metrics.rmsle(\n",
    "    abs(samps.adjusted_demand),\n",
    "    abs(samples['adjusted_demand'].mean(axis=0)),\n",
    ")"
   ]
  },
  {
   "cell_type": "code",
   "execution_count": null,
   "metadata": {
    "collapsed": false
   },
   "outputs": [],
   "source": [
    "pymc3.traceplot(trace[-200:], ['sales_depo_rate'])"
   ]
  },
  {
   "cell_type": "markdown",
   "metadata": {},
   "source": [
    "# Benchmarks\n",
    "\n",
    "This compares various distributions for the adjusted demand estimate.\n",
    "\n",
    "## Metropolis sampling \n",
    "- Normal: `1.1179161451846058`\n",
    "- Negative binomial: `1.4359957577593117`\n",
    "- Poisson: `1.4215856914577272`\n",
    "\n",
    "## NUTS sampling\n",
    "\n",
    "- Normal: `0.66091028618252567`\n",
    "- Negative binomial: `1.4360295077622596`\n",
    "- Poisson: `0.66688735758168283`"
   ]
  },
  {
   "cell_type": "code",
   "execution_count": null,
   "metadata": {
    "collapsed": true
   },
   "outputs": [],
   "source": []
  }
 ],
 "metadata": {
  "kernelspec": {
   "display_name": "Python 3",
   "language": "python",
   "name": "python3"
  },
  "language_info": {
   "codemirror_mode": {
    "name": "ipython",
    "version": 3
   },
   "file_extension": ".py",
   "mimetype": "text/x-python",
   "name": "python",
   "nbconvert_exporter": "python",
   "pygments_lexer": "ipython3",
   "version": "3.4.3"
  },
  "widgets": {
   "state": {},
   "version": "1.1.2"
  }
 },
 "nbformat": 4,
 "nbformat_minor": 0
}
