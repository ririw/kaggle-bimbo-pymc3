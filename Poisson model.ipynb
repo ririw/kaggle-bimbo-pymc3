{
 "cells": [
  {
   "cell_type": "code",
   "execution_count": 1,
   "metadata": {
    "collapsed": false
   },
   "outputs": [],
   "source": [
    "%matplotlib inline\n",
    "\n",
    "import numpy as np\n",
    "import pandas as pd\n",
    "import matplotlib.pyplot as plt\n",
    "from sklearn.preprocessing import LabelEncoder\n",
    "from theano import tensor as ts\n",
    "import pymc3 as pm\n",
    "\n",
    "plt.style.use(\"bmh\")\n",
    "plt.rcParams[\"figure.figsize\"] = (8,6)"
   ]
  },
  {
   "cell_type": "code",
   "execution_count": 2,
   "metadata": {
    "collapsed": true
   },
   "outputs": [],
   "source": [
    "#from blaze import Data\n",
    "#from odo import odo\n",
    "\n",
    "#t = Data(\"sqlite:///data.sqlite3::train\")\n",
    "#t = t.sample(n=20000)\n",
    "#odo(t, \"downloads/samp-20k.csv\")"
   ]
  },
  {
   "cell_type": "code",
   "execution_count": 3,
   "metadata": {
    "collapsed": false
   },
   "outputs": [
    {
     "data": {
      "text/html": [
       "<div>\n",
       "<table border=\"1\" class=\"dataframe\">\n",
       "  <thead>\n",
       "    <tr style=\"text-align: right;\">\n",
       "      <th></th>\n",
       "      <th>week_num</th>\n",
       "      <th>agency_id</th>\n",
       "      <th>product_id</th>\n",
       "      <th>adjusted_demand</th>\n",
       "    </tr>\n",
       "  </thead>\n",
       "  <tbody>\n",
       "    <tr>\n",
       "      <th>0</th>\n",
       "      <td>4</td>\n",
       "      <td>1170</td>\n",
       "      <td>325</td>\n",
       "      <td>12</td>\n",
       "    </tr>\n",
       "    <tr>\n",
       "      <th>1</th>\n",
       "      <td>9</td>\n",
       "      <td>2036</td>\n",
       "      <td>3631</td>\n",
       "      <td>8</td>\n",
       "    </tr>\n",
       "    <tr>\n",
       "      <th>2</th>\n",
       "      <td>5</td>\n",
       "      <td>2230</td>\n",
       "      <td>4085</td>\n",
       "      <td>1</td>\n",
       "    </tr>\n",
       "    <tr>\n",
       "      <th>3</th>\n",
       "      <td>8</td>\n",
       "      <td>4061</td>\n",
       "      <td>34891</td>\n",
       "      <td>54</td>\n",
       "    </tr>\n",
       "    <tr>\n",
       "      <th>4</th>\n",
       "      <td>6</td>\n",
       "      <td>1242</td>\n",
       "      <td>36008</td>\n",
       "      <td>6</td>\n",
       "    </tr>\n",
       "  </tbody>\n",
       "</table>\n",
       "</div>"
      ],
      "text/plain": [
       "   week_num  agency_id  product_id  adjusted_demand\n",
       "0         4       1170         325               12\n",
       "1         9       2036        3631                8\n",
       "2         5       2230        4085                1\n",
       "3         8       4061       34891               54\n",
       "4         6       1242       36008                6"
      ]
     },
     "execution_count": 3,
     "metadata": {},
     "output_type": "execute_result"
    }
   ],
   "source": [
    "usecols = [\"week_num\",\"agency_id\",\"product_id\",\"adjusted_demand\"]\n",
    "samps = pd.read_csv(\"downloads/samp-20k.csv\", usecols=usecols)\n",
    "samps.head()"
   ]
  },
  {
   "cell_type": "code",
   "execution_count": 4,
   "metadata": {
    "collapsed": true
   },
   "outputs": [],
   "source": [
    "n_weeks = len(samps.week_num.unique())\n",
    "n_products = len(samps.product_id.unique())\n",
    "n_agencies = len(samps.agency_id.unique())"
   ]
  },
  {
   "cell_type": "code",
   "execution_count": 5,
   "metadata": {
    "collapsed": false
   },
   "outputs": [
    {
     "name": "stdout",
     "output_type": "stream",
     "text": [
      "Number of weeks: 7\n",
      " Number of products: 660\n",
      " Number of agencies 480\n"
     ]
    }
   ],
   "source": [
    "print(\"Number of weeks: {}\\n Number of products: {}\\n Number of agencies {}\".format(n_weeks,n_products,n_agencies))"
   ]
  },
  {
   "cell_type": "code",
   "execution_count": 6,
   "metadata": {
    "collapsed": false
   },
   "outputs": [],
   "source": [
    "week_lb = LabelEncoder()\n",
    "week_code = week_lb.fit_transform(samps.week_num)\n",
    "\n",
    "agency_lb = LabelEncoder()\n",
    "agency_code = agency_lb.fit_transform(samps.agency_id)\n",
    "\n",
    "product_lb = LabelEncoder()\n",
    "product_code = product_lb.fit_transform(samps.product_id)"
   ]
  },
  {
   "cell_type": "code",
   "execution_count": 7,
   "metadata": {
    "collapsed": false
   },
   "outputs": [
    {
     "data": {
      "text/plain": [
       "array([1, 6, 2, ..., 1, 1, 0])"
      ]
     },
     "execution_count": 7,
     "metadata": {},
     "output_type": "execute_result"
    }
   ],
   "source": [
    "week_code"
   ]
  },
  {
   "cell_type": "code",
   "execution_count": 8,
   "metadata": {
    "collapsed": false
   },
   "outputs": [
    {
     "data": {
      "text/plain": [
       "array([ 12,  78,  83, ..., 465, 496,  46])"
      ]
     },
     "execution_count": 8,
     "metadata": {},
     "output_type": "execute_result"
    }
   ],
   "source": [
    "product_code"
   ]
  },
  {
   "cell_type": "code",
   "execution_count": 9,
   "metadata": {
    "collapsed": false
   },
   "outputs": [
    {
     "data": {
      "text/plain": [
       "array([ 36, 329, 378, ..., 129, 317, 317])"
      ]
     },
     "execution_count": 9,
     "metadata": {},
     "output_type": "execute_result"
    }
   ],
   "source": [
    "agency_code"
   ]
  },
  {
   "cell_type": "code",
   "execution_count": 10,
   "metadata": {
    "collapsed": false
   },
   "outputs": [],
   "source": [
    "pois_model = pm.Model()\n",
    "\n",
    "with pois_model:\n",
    "    intercept = pm.Normal(\"intercept\", mu=1, sd=10)\n",
    "    week_rate = pm.Normal(\"week_rate\", 100, shape=n_weeks)\n",
    "    agency_rate = pm.Normal(\"agency_rate\", 100, shape=n_agencies)\n",
    "    product_rate = pm.Normal(\"product_rate\", 100, shape=n_products)\n",
    "    demand_rate = intercept + week_rate[week_code] + product_rate[product_code] + agency_rate[agency_code]\n",
    "    adjusted_demand = pm.Poisson(\"adjusted_demand\", mu=demand_rate, observed=samps.adjusted_demand)"
   ]
  },
  {
   "cell_type": "code",
   "execution_count": 11,
   "metadata": {
    "collapsed": false
   },
   "outputs": [
    {
     "data": {
      "text/plain": [
       "[intercept, week_rate, agency_rate, product_rate]"
      ]
     },
     "execution_count": 11,
     "metadata": {},
     "output_type": "execute_result"
    }
   ],
   "source": [
    "pois_model.vars"
   ]
  },
  {
   "cell_type": "code",
   "execution_count": 12,
   "metadata": {
    "collapsed": false
   },
   "outputs": [
    {
     "name": "stdout",
     "output_type": "stream",
     "text": [
      "Iteration 0 [0%]: ELBO = -5498849.56\n",
      "Iteration 200 [10%]: ELBO = -5478364.04\n",
      "Iteration 400 [20%]: ELBO = -5478047.71\n",
      "Iteration 600 [30%]: ELBO = -5454957.58\n",
      "Iteration 800 [40%]: ELBO = -5492173.81\n",
      "Iteration 1000 [50%]: ELBO = -5471725.76\n",
      "Iteration 1200 [60%]: ELBO = -5443140.92\n",
      "Iteration 1400 [70%]: ELBO = -5453081.81\n",
      "Iteration 1600 [80%]: ELBO = -5455334.86\n",
      "Iteration 1800 [90%]: ELBO = -5445645.08\n",
      "Finished [100%]: ELBO = -5435708.6\n"
     ]
    }
   ],
   "source": [
    "with pois_model:\n",
    "    means, stds, elbos = pm.advi(n=2000)"
   ]
  },
  {
   "cell_type": "code",
   "execution_count": 13,
   "metadata": {
    "collapsed": false
   },
   "outputs": [
    {
     "name": "stderr",
     "output_type": "stream",
     "text": [
      "WARNING (theano.tensor.blas): We did not found a dynamic library into the library_dir of the library we use for blas. If you use ATLAS, make sure to compile it with dynamics library.\n"
     ]
    },
    {
     "name": "stdout",
     "output_type": "stream",
     "text": [
      " [-----------------100%-----------------] 501 of 500 complete in 401.3 sec"
     ]
    }
   ],
   "source": [
    "with pois_model:\n",
    "    step = pm.NUTS(scaling=means)\n",
    "    pois_trace = pm.sample(500, step=step)"
   ]
  },
  {
   "cell_type": "code",
   "execution_count": 14,
   "metadata": {
    "collapsed": false
   },
   "outputs": [
    {
     "data": {
      "text/plain": [
       "array([[<matplotlib.axes._subplots.AxesSubplot object at 0x7f296a29f7f0>,\n",
       "        <matplotlib.axes._subplots.AxesSubplot object at 0x7f2969a10208>],\n",
       "       [<matplotlib.axes._subplots.AxesSubplot object at 0x7f29699bfeb8>,\n",
       "        <matplotlib.axes._subplots.AxesSubplot object at 0x7f296997ba90>]], dtype=object)"
      ]
     },
     "execution_count": 14,
     "metadata": {},
     "output_type": "execute_result"
    },
    {
     "data": {
      "image/png": "[encoded data removed]",
      "text/plain": [
       "<matplotlib.figure.Figure at 0x7f29b9f66b70>"
      ]
     },
     "metadata": {},
     "output_type": "display_data"
    }
   ],
   "source": [
    "pm.traceplot(pois_trace, varnames=[\"intercept\", \"week_rate\"])"
   ]
  },
  {
   "cell_type": "code",
   "execution_count": 17,
   "metadata": {
    "collapsed": false
   },
   "outputs": [
    {
     "data": {
      "text/plain": [
       "[adjusted_demand]"
      ]
     },
     "execution_count": 17,
     "metadata": {},
     "output_type": "execute_result"
    }
   ],
   "source": [
    "pois_model.observed_RVs"
   ]
  },
  {
   "cell_type": "code",
   "execution_count": 24,
   "metadata": {
    "collapsed": true
   },
   "outputs": [],
   "source": [
    "ppc = pm.sample_ppc(pois_trace, model=pois_model, vars=[adjusted_demand])[\"adjusted_demand\"]"
   ]
  },
  {
   "cell_type": "code",
   "execution_count": 26,
   "metadata": {
    "collapsed": false
   },
   "outputs": [],
   "source": [
    "n_samp = ppc.shape[0]"
   ]
  },
  {
   "cell_type": "code",
   "execution_count": 33,
   "metadata": {
    "collapsed": false
   },
   "outputs": [
    {
     "data": {
      "text/plain": [
       "<matplotlib.text.Text at 0x7f295ed4c208>"
      ]
     },
     "execution_count": 33,
     "metadata": {},
     "output_type": "execute_result"
    },
    {
     "data": {
      "image/png": "[encoded data removed]",
      "text/plain": [
       "<matplotlib.figure.Figure at 0x7f295edcfe10>"
      ]
     },
     "metadata": {},
     "output_type": "display_data"
    }
   ],
   "source": [
    "fig,axs = plt.subplots(nrows=1, ncols=2, figsize=(15,6), sharey=True)\n",
    "\n",
    "axs[0].hist(samps.adjusted_demand, bins=20, log=True)\n",
    "axs[0].set_title(\"Observed data\")\n",
    "\n",
    "axs[1].hist(np.median(ppc, axis=0), bins=20)\n",
    "axs[1].set_title(\"Posterior median (%d samples)\" % n_samp)"
   ]
  },
  {
   "cell_type": "code",
   "execution_count": null,
   "metadata": {
    "collapsed": true
   },
   "outputs": [],
   "source": []
  }
 ],
 "metadata": {
  "kernelspec": {
   "display_name": "Python 3",
   "language": "python",
   "name": "python3"
  },
  "language_info": {
   "codemirror_mode": {
    "name": "ipython",
    "version": 3
   },
   "file_extension": ".py",
   "mimetype": "text/x-python",
   "name": "python",
   "nbconvert_exporter": "python",
   "pygments_lexer": "ipython3",
   "version": "3.5.2"
  },
  "widgets": {
   "state": {},
   "version": "1.1.2"
  }
 },
 "nbformat": 4,
 "nbformat_minor": 0
}
