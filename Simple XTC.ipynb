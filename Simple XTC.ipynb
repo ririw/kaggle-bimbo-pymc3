{
 "cells": [
  {
   "cell_type": "code",
   "execution_count": 1,
   "metadata": {
    "collapsed": false
   },
   "outputs": [
    {
     "name": "stdout",
     "output_type": "stream",
     "text": [
      "Populating the interactive namespace from numpy and matplotlib\n"
     ]
    }
   ],
   "source": [
    "%pylab inline"
   ]
  },
  {
   "cell_type": "code",
   "execution_count": 2,
   "metadata": {
    "collapsed": false
   },
   "outputs": [
    {
     "name": "stderr",
     "output_type": "stream",
     "text": [
      "/opt/conda/lib/python3.5/site-packages/sklearn/lda.py:4: DeprecationWarning: lda.LDA has been moved to discriminant_analysis.LinearDiscriminantAnalysis in 0.17 and will be removed in 0.19\n",
      "  \"in 0.17 and will be removed in 0.19\", DeprecationWarning)\n",
      "/opt/conda/lib/python3.5/site-packages/sklearn/qda.py:4: DeprecationWarning: qda.QDA has been moved to discriminant_analysis.QuadraticDiscriminantAnalysis in 0.17 and will be removed in 0.19.\n",
      "  \"in 0.17 and will be removed in 0.19.\", DeprecationWarning)\n"
     ]
    }
   ],
   "source": [
    "import pandas\n",
    "import sqlite3\n",
    "import seaborn as sns\n",
    "from sklearn import *\n",
    "from tqdm import tqdm\n",
    "import joblib"
   ]
  },
  {
   "cell_type": "code",
   "execution_count": 3,
   "metadata": {
    "collapsed": true
   },
   "outputs": [],
   "source": [
    "def batch_treatment(batch_data):\n",
    "    batch_data = pandas.concat(\n",
    "            [batch_data, pandas.get_dummies(batch_data.sales_depo, prefix='sales')]\n",
    "        ).drop('sales_depo', axis=1)\n",
    "    batch_data = pandas.concat(\n",
    "            [batch_data, pandas.get_dummies(batch_data.sales_channel, prefix='channel')]\n",
    "        ).drop('sales_channel', axis=1)\n",
    "    return batch_data"
   ]
  },
  {
   "cell_type": "code",
   "execution_count": null,
   "metadata": {
    "collapsed": false,
    "scrolled": false
   },
   "outputs": [],
   "source": [
    "def train_classifier(i):\n",
    "    con = sqlite3.connect('/tmp/data.sqlite3')\n",
    "    try:\n",
    "        cls = linear_model.RidgeClassifier()\n",
    "        batch_data = pandas.read_sql('''\n",
    "            SELECT week_num, \n",
    "                   sales_depo,\n",
    "                   sales_channel,\n",
    "                   route_id,\n",
    "                   client_id,\n",
    "                   product_id,\n",
    "                   adjusted_demand\n",
    "              FROM data\n",
    "             WHERE adjusted_demand is not null\n",
    "                   AND week_num < 8\n",
    "                   AND (rand = ? OR rand = ? OR rand = ? OR rand = ?)\n",
    "            ''', params=[i, i+25, i+50, i+75], con=con)\n",
    "        batch_data = batch_treatment(batch_data)\n",
    "        print('Training...')\n",
    "        cls.fit(batch_data.drop('adjusted_demand', axis=1), batch_data.adjusted_demand)\n",
    "        print('Trained')\n",
    "    finally:\n",
    "        con.close()\n",
    "    return cls\n",
    "\n",
    "classifiers = joblib.Parallel(n_jobs=-1)([joblib.delayed(train_classifier)(i) for i in range(25)])"
   ]
  },
  {
   "cell_type": "code",
   "execution_count": null,
   "metadata": {
    "collapsed": false
   },
   "outputs": [],
   "source": [
    "def classify_subset(i):\n",
    "    con = sqlite3.connect('/tmp/data.sqlite3')\n",
    "    try:\n",
    "        batch_data = pandas.read_sql('''\n",
    "            SELECT week_num, \n",
    "                   sales_depo,\n",
    "                   sales_channel,\n",
    "                   route_id,\n",
    "                   client_id,\n",
    "                   product_id,\n",
    "                   adjusted_demand\n",
    "              FROM data\n",
    "             WHERE adjusted_demand is not null\n",
    "                   AND week_num >= 8\n",
    "                   AND (rand = ? OR rand = ? OR rand = ? OR rand = ?)\n",
    "            ''', params=[i, i+25, i+50, i+75], con=con)\n",
    "        preds = []\n",
    "        for cls in classifiers:\n",
    "            preds.append(cls.predict(batch_data.drop('adjusted_demand', axis=1)))\n",
    "        preds = np.vstack(preds)\n",
    "        pred = np.mean(preds, axis=0)\n",
    "    finally:\n",
    "        con.close()\n",
    "    return pred, batch_data.adjusted_demand\n",
    "\n",
    "batch_predictions, batch_y = zip(*joblib.Parallel(n_jobs=-1)([joblib.delayed(classify_subset)(i) for i in range(25)]))"
   ]
  },
  {
   "cell_type": "code",
   "execution_count": null,
   "metadata": {
    "collapsed": false
   },
   "outputs": [],
   "source": [
    "metrics.mean_squared_error(np.concatenate(batch_y), np.concatenate(batch_predictions))"
   ]
  },
  {
   "cell_type": "code",
   "execution_count": null,
   "metadata": {
    "collapsed": false,
    "scrolled": true
   },
   "outputs": [],
   "source": [
    "def RMSLE(y_true, y_pred):\n",
    "    t1 = np.log(y_pred + 1)\n",
    "    t2 = np.log(y_true + 1)\n",
    "    sqt = (t1 + t2)**2\n",
    "    return np.sqrt(np.mean(sqt))\n",
    "RMSLE(np.concatenate(batch_y), np.concatenate(batch_predictions))"
   ]
  },
  {
   "cell_type": "code",
   "execution_count": 28,
   "metadata": {
    "collapsed": false
   },
   "outputs": [
    {
     "data": {
      "text/plain": [
       "array([ 30, 123,   3, ...,   2,   0,   2])"
      ]
     },
     "execution_count": 28,
     "metadata": {},
     "output_type": "execute_result"
    }
   ],
   "source": [
    "np.concatenate(batch_y)"
   ]
  },
  {
   "cell_type": "code",
   "execution_count": 30,
   "metadata": {
    "collapsed": false
   },
   "outputs": [
    {
     "data": {
      "text/plain": [
       "-389.30195358329598"
      ]
     },
     "execution_count": 30,
     "metadata": {},
     "output_type": "execute_result"
    }
   ],
   "source": [
    "np.concatenate(batch_predictions)"
   ]
  },
  {
   "cell_type": "code",
   "execution_count": null,
   "metadata": {
    "collapsed": true
   },
   "outputs": [],
   "source": []
  }
 ],
 "metadata": {
  "kernelspec": {
   "display_name": "Python 3",
   "language": "python",
   "name": "python3"
  },
  "language_info": {
   "codemirror_mode": {
    "name": "ipython",
    "version": 3
   },
   "file_extension": ".py",
   "mimetype": "text/x-python",
   "name": "python",
   "nbconvert_exporter": "python",
   "pygments_lexer": "ipython3",
   "version": "3.5.1"
  },
  "widgets": {
   "state": {},
   "version": "1.1.2"
  }
 },
 "nbformat": 4,
 "nbformat_minor": 0
}
